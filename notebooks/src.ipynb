{
 "cells": [
  {
   "cell_type": "code",
   "execution_count": 5,
   "metadata": {},
   "outputs": [],
   "source": [
    "import pandas as pd\n",
    "import datetime\n",
    "import matplotlib.pyplot as plt\n",
    "import numpy as np\n",
    "from sklearn.linear_model import LogisticRegression\n",
    "from sklearn.naive_bayes import GaussianNB"
   ]
  },
  {
   "source": [
    "Importing the data using read_csv\n"
   ],
   "cell_type": "markdown",
   "metadata": {}
  },
  {
   "cell_type": "code",
   "execution_count": 6,
   "metadata": {},
   "outputs": [
    {
     "output_type": "execute_result",
     "data": {
      "text/plain": "        Dataline            Play  PlayerLinenumber ActSceneLine  \\\n0              1        Henry IV               NaN          NaN   \n1              2        Henry IV               NaN          NaN   \n2              3        Henry IV               NaN          NaN   \n3              4        Henry IV               1.0        1.1.1   \n4              5        Henry IV               1.0        1.1.2   \n...          ...             ...               ...          ...   \n111391    111392  A Winters Tale              38.0      5.3.180   \n111392    111393  A Winters Tale              38.0      5.3.181   \n111393    111394  A Winters Tale              38.0      5.3.182   \n111394    111395  A Winters Tale              38.0      5.3.183   \n111395    111396  A Winters Tale              38.0          NaN   \n\n               Player                                         PlayerLine  \n0                 NaN                                              ACT I  \n1                 NaN                       SCENE I. London. The palace.  \n2                 NaN  Enter KING HENRY, LORD JOHN OF LANCASTER, the ...  \n3       KING HENRY IV             So shaken as we are, so wan with care,  \n4       KING HENRY IV         Find we a time for frighted peace to pant,  \n...               ...                                                ...  \n111391        LEONTES         Lead us from hence, where we may leisurely  \n111392        LEONTES              Each one demand an answer to his part  \n111393        LEONTES     Perform'd in this wide gap of time since first  \n111394        LEONTES             We were dissever'd: hastily lead away.  \n111395        LEONTES                                             Exeunt  \n\n[111396 rows x 6 columns]",
      "text/html": "<div>\n<style scoped>\n    .dataframe tbody tr th:only-of-type {\n        vertical-align: middle;\n    }\n\n    .dataframe tbody tr th {\n        vertical-align: top;\n    }\n\n    .dataframe thead th {\n        text-align: right;\n    }\n</style>\n<table border=\"1\" class=\"dataframe\">\n  <thead>\n    <tr style=\"text-align: right;\">\n      <th></th>\n      <th>Dataline</th>\n      <th>Play</th>\n      <th>PlayerLinenumber</th>\n      <th>ActSceneLine</th>\n      <th>Player</th>\n      <th>PlayerLine</th>\n    </tr>\n  </thead>\n  <tbody>\n    <tr>\n      <th>0</th>\n      <td>1</td>\n      <td>Henry IV</td>\n      <td>NaN</td>\n      <td>NaN</td>\n      <td>NaN</td>\n      <td>ACT I</td>\n    </tr>\n    <tr>\n      <th>1</th>\n      <td>2</td>\n      <td>Henry IV</td>\n      <td>NaN</td>\n      <td>NaN</td>\n      <td>NaN</td>\n      <td>SCENE I. London. The palace.</td>\n    </tr>\n    <tr>\n      <th>2</th>\n      <td>3</td>\n      <td>Henry IV</td>\n      <td>NaN</td>\n      <td>NaN</td>\n      <td>NaN</td>\n      <td>Enter KING HENRY, LORD JOHN OF LANCASTER, the ...</td>\n    </tr>\n    <tr>\n      <th>3</th>\n      <td>4</td>\n      <td>Henry IV</td>\n      <td>1.0</td>\n      <td>1.1.1</td>\n      <td>KING HENRY IV</td>\n      <td>So shaken as we are, so wan with care,</td>\n    </tr>\n    <tr>\n      <th>4</th>\n      <td>5</td>\n      <td>Henry IV</td>\n      <td>1.0</td>\n      <td>1.1.2</td>\n      <td>KING HENRY IV</td>\n      <td>Find we a time for frighted peace to pant,</td>\n    </tr>\n    <tr>\n      <th>...</th>\n      <td>...</td>\n      <td>...</td>\n      <td>...</td>\n      <td>...</td>\n      <td>...</td>\n      <td>...</td>\n    </tr>\n    <tr>\n      <th>111391</th>\n      <td>111392</td>\n      <td>A Winters Tale</td>\n      <td>38.0</td>\n      <td>5.3.180</td>\n      <td>LEONTES</td>\n      <td>Lead us from hence, where we may leisurely</td>\n    </tr>\n    <tr>\n      <th>111392</th>\n      <td>111393</td>\n      <td>A Winters Tale</td>\n      <td>38.0</td>\n      <td>5.3.181</td>\n      <td>LEONTES</td>\n      <td>Each one demand an answer to his part</td>\n    </tr>\n    <tr>\n      <th>111393</th>\n      <td>111394</td>\n      <td>A Winters Tale</td>\n      <td>38.0</td>\n      <td>5.3.182</td>\n      <td>LEONTES</td>\n      <td>Perform'd in this wide gap of time since first</td>\n    </tr>\n    <tr>\n      <th>111394</th>\n      <td>111395</td>\n      <td>A Winters Tale</td>\n      <td>38.0</td>\n      <td>5.3.183</td>\n      <td>LEONTES</td>\n      <td>We were dissever'd: hastily lead away.</td>\n    </tr>\n    <tr>\n      <th>111395</th>\n      <td>111396</td>\n      <td>A Winters Tale</td>\n      <td>38.0</td>\n      <td>NaN</td>\n      <td>LEONTES</td>\n      <td>Exeunt</td>\n    </tr>\n  </tbody>\n</table>\n<p>111396 rows × 6 columns</p>\n</div>"
     },
     "metadata": {},
     "execution_count": 6
    }
   ],
   "source": [
    "Shakespeare = pd.read_csv(\"..\\\\data\\\\raw\\\\Shakespeare_data.csv\")\n",
    "Shakespeare"
   ]
  },
  {
   "source": [
    "Finding the most common words in the play and creating a sparse matrix to indicate which lines contain \n",
    "which of these words. I then created columns to signify these relationships. Each column is the word and the row is a 1 if that word is  in the line and 0 otherwise. This gives us the ability to \"recognize\" players by the words that they speak most often. This will be helpful for characters who often speak about the same topic/person."
   ],
   "cell_type": "markdown",
   "metadata": {}
  },
  {
   "cell_type": "code",
   "execution_count": 76,
   "metadata": {},
   "outputs": [],
   "source": [
    "d = Shakespeare.copy()\n",
    "PlayerLines = d.PlayerLine.tolist()\n",
    "words =[]\n",
    "lines = []\n",
    "for line_words in PlayerLines:\n",
    "    line_words = line_words.replace(\",\",\"\")\n",
    "    line_words = line_words.replace(\".\",\"\")\n",
    "    line_words = line_words.replace(\"'\",\"\")\n",
    "    line_words = line_words.replace(\"?\",\"\")\n",
    "    line_words = line_words.replace(\"!\",\"\")\n",
    "    line_words = line_words.replace(\":\",\"\")\n",
    "    line_words = line_words.replace(\"-\",\"\")\n",
    "\n",
    "    line_words = str.lower(line_words)\n",
    "    lines.append(line_words)\n",
    "    line_words  = line_words.split(\" \")\n",
    "    for word in line_words:\n",
    "        words.append(word)\n",
    "unique, count  = np.unique(words, return_counts=True)\n",
    "word_counts = list(zip(unique,count  ))\n",
    "word_counts.sort(key=lambda x: x[1],reverse=True)\n",
    "common_words = word_counts[:500]\n",
    "for word in common_words:\n",
    "    arr = []\n",
    "    for line in lines:\n",
    "        if word[0] in line:\n",
    "            arr.append(1)\n",
    "        else:\n",
    "            arr.append(0)\n",
    "    d[word[0]] = arr"
   ]
  },
  {
   "source": [
    "Creating a one hot encoding for the current act scene and play. We can't create a different column for each line so we are just using the play, act and scene data to make these columns. Each column is a 1 if we are in the play, act or scene and 0 otherwise."
   ],
   "cell_type": "markdown",
   "metadata": {}
  },
  {
   "cell_type": "code",
   "execution_count": 78,
   "metadata": {},
   "outputs": [],
   "source": [
    "tmp = d.copy()\n",
    "tmp = tmp.dropna()\n",
    "dummies = pd.get_dummies(tmp.Play)\n",
    "tmp =tmp.drop([\"Play\"],axis=1)\n",
    "\n",
    "for column in dummies.columns:\n",
    "    tmp[column] = dummies[column]\n",
    "ActScene = tmp.ActSceneLine.tolist()\n",
    "act_scene = []\n",
    "for el in ActScene:\n",
    "    act_scene.append(el[:4])\n",
    "tmp[\"act_scene\"] = act_scene\n",
    "dummies = pd.get_dummies(tmp.act_scene)\n",
    "tmp =tmp.drop([\"ActSceneLine\"],axis=1)\n",
    "for column in dummies.columns:\n",
    "    tmp[column] = dummies[column]\n"
   ]
  },
  {
   "source": [
    "Removing comlumns that are not going to be used as  our predictive "
   ],
   "cell_type": "markdown",
   "metadata": {}
  },
  {
   "cell_type": "code",
   "execution_count": 89,
   "metadata": {},
   "outputs": [],
   "source": [
    "X  = tmp.drop([\"PlayerLinenumber\",\"PlayerLine\", \"Player\", \"act_scene\",\"Dataline\"], axis = 1)\n",
    "Y  = tmp.Player"
   ]
  },
  {
   "source": [
    "Running the Logisitc Regression and Naive Bayes classifcation algorithms on our data. Here we see that the Logistic regression is much more predictive in this data set than the Naive Bayes. We get 74% accuracy in the Logistic Regression approach and 44% in the Naive Bayes"
   ],
   "cell_type": "markdown",
   "metadata": {}
  },
  {
   "cell_type": "code",
   "execution_count": 93,
   "metadata": {},
   "outputs": [],
   "source": [
    "\n",
    "clf = LogisticRegression(random_state=0).fit(X.head(50000), Y.head(50000))"
   ]
  },
  {
   "cell_type": "code",
   "execution_count": 95,
   "metadata": {
    "tags": []
   },
   "outputs": [
    {
     "output_type": "stream",
     "name": "stdout",
     "text": "0.74216\n"
    }
   ],
   "source": [
    "arr = clf.predict(X.head(50000))\n",
    "\n",
    "pairs = list(zip(Y.head(50000).tolist(),arr))\n",
    "same=0\n",
    "for pair in pairs:\n",
    "    if pair[0] == pair[1]:\n",
    "        same += 1\n",
    "print( same / len(arr))"
   ]
  },
  {
   "cell_type": "code",
   "execution_count": 96,
   "metadata": {},
   "outputs": [],
   "source": [
    "gnb = GaussianNB()\n",
    "y_pred = gnb.fit(X.head(50000), Y.head(50000)).predict(X.head(50000))\n"
   ]
  },
  {
   "cell_type": "code",
   "execution_count": 98,
   "metadata": {
    "tags": []
   },
   "outputs": [
    {
     "output_type": "stream",
     "name": "stdout",
     "text": "0.44844\n"
    }
   ],
   "source": [
    "pairs = list(zip(Y.head(50000).tolist(),y_pred))\n",
    "same=0\n",
    "for pair in pairs:\n",
    "    if pair[0] == pair[1]:\n",
    "        same += 1\n",
    "print( same / len(arr))"
   ]
  }
 ],
 "metadata": {
  "language_info": {
   "codemirror_mode": {
    "name": "ipython",
    "version": 3
   },
   "file_extension": ".py",
   "mimetype": "text/x-python",
   "name": "python",
   "nbconvert_exporter": "python",
   "pygments_lexer": "ipython3",
   "version": "3.6.5-final"
  },
  "orig_nbformat": 2,
  "kernelspec": {
   "name": "python_defaultSpec_1600712432474",
   "display_name": "Python 3.6.5 64-bit"
  }
 },
 "nbformat": 4,
 "nbformat_minor": 2
}